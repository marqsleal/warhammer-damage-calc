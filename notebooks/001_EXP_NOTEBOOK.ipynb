{
 "cells": [
  {
   "cell_type": "markdown",
   "id": "1c2da42f",
   "metadata": {},
   "source": [
    "# Header"
   ]
  },
  {
   "cell_type": "code",
   "execution_count": 9,
   "id": "46d703f4",
   "metadata": {},
   "outputs": [],
   "source": [
    "from warhammer_calc import WarHammerCalc\n",
    "from json_validator import JsonValidator"
   ]
  },
  {
   "cell_type": "markdown",
   "id": "d958a295",
   "metadata": {},
   "source": [
    "# Experimento - Warhammer 40k Damage Calc"
   ]
  },
  {
   "cell_type": "code",
   "execution_count": 10,
   "id": "533edbf4",
   "metadata": {},
   "outputs": [],
   "source": [
    "attacker_kwargs = {\n",
    "    \"ATTACK\" : 10,\n",
    "    \"SKILL\" : 3,\n",
    "    \"STRENGTH\" : 4,\n",
    "    \"ARMOR_PENETRATION\": 1,\n",
    "    \"FLAT_DAMAGE\": 2,\n",
    "    \"D3_DAMAGE\": 0,\n",
    "    \"D6_DAMAGE\": 0,\n",
    "    \"BLAST\": 0,\n",
    "    \"HEAVY\": 0,\n",
    "    \"LETHAL_HITS\": 0,\n",
    "    \"SUSTAINED_HITS\": 0,\n",
    "    \"TWIN_LINKED\": 0,\n",
    "    \"REROLL_TO_HIT\": 0,\n",
    "    \"REROLL_TO_WOUND\": 0\n",
    "}"
   ]
  },
  {
   "cell_type": "code",
   "execution_count": 11,
   "metadata": {},
   "outputs": [],
   "source": [
    "defender_kwargs = {\n",
    "    \"TOUGHNESS\" : 4,\n",
    "    \"ARMOR_SAVE\" : 3,\n",
    "    \"N_MODELS\": 1,\n",
    "    \"INVULNERABLE_SAVE\": 0,\n",
    "    \"FEEL_NO_PAIN\": 0\n",
    "}"
   ]
  },
  {
   "cell_type": "code",
   "execution_count": 12,
   "id": "ba016b06",
   "metadata": {},
   "outputs": [
    {
     "name": "stdout",
     "output_type": "stream",
     "text": [
      "Hit Roll: 6.666666666666666\n",
      "Wound Roll: 3.333333333333333\n",
      "Save Roll: -0.5555555555555558\n",
      "Damage Roll: 7.777777777777778\n"
     ]
    }
   ],
   "source": [
    "JsonValidator.validate_attacker(attacker_kwargs)\n",
    "JsonValidator.validate_defender(defender_kwargs)\n",
    "calc = WarHammerCalc(attacker_kwargs, defender_kwargs)\n",
    "result = calc.run_calc()\n",
    "print(f\"Hit Roll: {result['hit_result']}\")\n",
    "print(f\"Wound Roll: {result['wound_result']}\")\n",
    "print(f\"Save Roll: {result['save_result']}\")\n",
    "print(f\"Damage Roll: {result['damage_result']}\")"
   ]
  }
 ],
 "metadata": {
  "kernelspec": {
   "display_name": "venv",
   "language": "python",
   "name": "python3"
  },
  "language_info": {
   "codemirror_mode": {
    "name": "ipython",
    "version": 3
   },
   "file_extension": ".py",
   "mimetype": "text/x-python",
   "name": "python",
   "nbconvert_exporter": "python",
   "pygments_lexer": "ipython3",
   "version": "3.12.3"
  }
 },
 "nbformat": 4,
 "nbformat_minor": 5
}
